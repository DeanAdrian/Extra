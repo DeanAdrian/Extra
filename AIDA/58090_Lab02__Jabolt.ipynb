{
  "nbformat": 4,
  "nbformat_minor": 0,
  "metadata": {
    "colab": {
      "name": "58090_Lab02._Jabolt.ipynb",
      "provenance": [],
      "include_colab_link": true
    },
    "kernelspec": {
      "name": "python3",
      "display_name": "Python 3"
    },
    "language_info": {
      "name": "python"
    }
  },
  "cells": [
    {
      "cell_type": "markdown",
      "metadata": {
        "id": "view-in-github",
        "colab_type": "text"
      },
      "source": [
        "<a href=\"https://colab.research.google.com/github/DeanAdrian/Extra/blob/main/AIDA/58090_Lab02__Jabolt.ipynb\" target=\"_parent\"><img src=\"https://colab.research.google.com/assets/colab-badge.svg\" alt=\"Open In Colab\"/></a>"
      ]
    },
    {
      "cell_type": "markdown",
      "metadata": {
        "id": "ODsJ4ZqNqqQN"
      },
      "source": [
        "# <div align=\"center\">**Lab 02 - Linear Algebra Review**</div> \n",
        "\n",
        "| Submitted By:          | Instructor:               |\n",
        "|------------------------|---------------------------|\n",
        "| Baluyot, John Michael  | Engr. Dylan Josh D. Lopez |\n",
        "| Barona, Federico III   |                           | \n",
        "| Estocapio, Dean Adrian |                           |\n",
        "| Garcia, Lance Gabriel  |                           | "
      ]
    },
    {
      "cell_type": "code",
      "metadata": {
        "id": "yt7gRmsaDneO"
      },
      "source": [
        "import numpy as np\n",
        "import pandas as pd"
      ],
      "execution_count": 1,
      "outputs": []
    },
    {
      "cell_type": "code",
      "metadata": {
        "id": "qhf8yV7c1u_O"
      },
      "source": [
        "u = np.array([1,2,3])\n",
        "v = np.array([4,2,-3])\n",
        "t = np.array([[1,2,3],\n",
        "              [1,2,3]])"
      ],
      "execution_count": 2,
      "outputs": []
    },
    {
      "cell_type": "code",
      "metadata": {
        "id": "fWgHEmuD1ld6"
      },
      "source": [
        "def vector_magnitude_np(vector):\n",
        "  magnitude = np.linalg.norm(vector)\n",
        "  return magnitude"
      ],
      "execution_count": 3,
      "outputs": []
    },
    {
      "cell_type": "code",
      "metadata": {
        "id": "262rLdpW1s0V"
      },
      "source": [
        "def  vector_magnitude(vector):\n",
        "  magnitude = 0\n",
        "  if vector.ndim == 1:\n",
        "    for values in vector:\n",
        "      values = values*values\n",
        "      magnitude = magnitude + values\n",
        "    magnitude = magnitude**(1/2)\n",
        "  else:\n",
        "    for values in vector:\n",
        "      values = values@values\n",
        "      magnitude = magnitude + values\n",
        "    magnitude = magnitude**(1/2)\n",
        "  return magnitude"
      ],
      "execution_count": 4,
      "outputs": []
    },
    {
      "cell_type": "code",
      "metadata": {
        "colab": {
          "base_uri": "https://localhost:8080/"
        },
        "id": "pCVXLIus1v39",
        "outputId": "d72b711a-feda-44d0-d37a-23b1d7675cfa"
      },
      "source": [
        "vector_magnitude_np(u)"
      ],
      "execution_count": 5,
      "outputs": [
        {
          "output_type": "execute_result",
          "data": {
            "text/plain": [
              "3.7416573867739413"
            ]
          },
          "metadata": {},
          "execution_count": 5
        }
      ]
    },
    {
      "cell_type": "code",
      "metadata": {
        "colab": {
          "base_uri": "https://localhost:8080/"
        },
        "id": "XVMW2kTr13uO",
        "outputId": "7ad03505-494b-4a86-dd25-7693ca3e89d0"
      },
      "source": [
        "vector_magnitude(u)"
      ],
      "execution_count": 6,
      "outputs": [
        {
          "output_type": "execute_result",
          "data": {
            "text/plain": [
              "3.7416573867739413"
            ]
          },
          "metadata": {},
          "execution_count": 6
        }
      ]
    },
    {
      "cell_type": "markdown",
      "metadata": {
        "id": "aXA2xRkTHjvn"
      },
      "source": [
        "### Case 4.c\n",
        "\n",
        "\n",
        "Problem 4.c: Computational Programming (Also Laboratory 2)\n",
        "\n",
        "Encode Equations 3.1 to 3.4 as the class LRegression wherein:\n",
        "\n",
        "*   LRegression should be instantiated with a dataset $X$, a ground truth vector $y$, and a parameter vector $\\theta$. Each parameter should have a data type of numpy.array.\n",
        "*   It should further have methodsreflecting to at least the four (4) aforementioned equations. Each should have a return value.\n",
        "\n"
      ]
    },
    {
      "cell_type": "code",
      "metadata": {
        "id": "52wI0afmFPB0"
      },
      "source": [
        "class LRegression():\n",
        "  def __init__(self, dataSet, y_GndTruth, thetaVector):\n",
        "    self.dataSet = dataSet\n",
        "    self.y_GndTruth = y_GndTruth\n",
        "    self.thetaVector = thetaVector\n",
        "\n",
        "  def getVectorMagnitude(self):\n",
        "    magnitude = np.linalg.norm(self.dataSet)\n",
        "    return magnitude\n",
        "\n",
        "  def getZ(self): ## Eq. 3.1\n",
        "    self.dataSetT = self.dataSet.transpose()\n",
        "    self.z = np.dot(self.dataSetT, self.thetaVector)\n",
        "    return self.z \n",
        "\n",
        "  def getActivation (self): ## Eq. 3.2 & 3.3\n",
        "    self.activation = 1/(1+np.exp(-self.z))\n",
        "    return self.activation\n",
        "\n",
        "  def getLoss(self): ## Eq. 3.4\n",
        "    m = self.y_GndTruth.shape[0]\n",
        "    yt = self.y_GndTruth.transpose()\n",
        "\n",
        "    lossEq= (-1*yt)*(np.log(self.activation)) - ((1-self.y_GndTruth).transpose())*(np.log(1-self.activation))\n",
        "    self.J = (1/m)*lossEq\n",
        "    return self.J"
      ],
      "execution_count": 7,
      "outputs": []
    },
    {
      "cell_type": "code",
      "metadata": {
        "id": "VX-eVJopFRNo"
      },
      "source": [
        "X = np.random.random((300,5))*100\n",
        "theta = np.random.random((300,1))\n",
        "y = np.random.randint(0,2,(300,1))"
      ],
      "execution_count": 8,
      "outputs": []
    },
    {
      "cell_type": "code",
      "metadata": {
        "id": "rADamgaYFfsj"
      },
      "source": [
        "Regression = LRegression(X, y, theta)"
      ],
      "execution_count": 9,
      "outputs": []
    },
    {
      "cell_type": "code",
      "metadata": {
        "colab": {
          "base_uri": "https://localhost:8080/"
        },
        "id": "KM2jP4IeFhbG",
        "outputId": "8171b42f-94f9-4707-d19f-88111f5f2552"
      },
      "source": [
        "Regression.getVectorMagnitude()"
      ],
      "execution_count": 10,
      "outputs": [
        {
          "output_type": "execute_result",
          "data": {
            "text/plain": [
              "2207.7517063192095"
            ]
          },
          "metadata": {},
          "execution_count": 10
        }
      ]
    },
    {
      "cell_type": "code",
      "metadata": {
        "colab": {
          "base_uri": "https://localhost:8080/"
        },
        "id": "noccjoVjFjBB",
        "outputId": "54fe3e59-d25d-461c-f2f5-57d21ae82e92"
      },
      "source": [
        "Regression.getZ()"
      ],
      "execution_count": 11,
      "outputs": [
        {
          "output_type": "execute_result",
          "data": {
            "text/plain": [
              "array([[7184.65072419],\n",
              "       [7019.67805003],\n",
              "       [6477.65287609],\n",
              "       [7142.16173266],\n",
              "       [7045.72261582]])"
            ]
          },
          "metadata": {},
          "execution_count": 11
        }
      ]
    },
    {
      "cell_type": "code",
      "metadata": {
        "colab": {
          "base_uri": "https://localhost:8080/"
        },
        "id": "r1P8wPAVFk1-",
        "outputId": "03fa3c0e-9a3b-4097-bbde-4308153e3498"
      },
      "source": [
        "Regression.getActivation()"
      ],
      "execution_count": 12,
      "outputs": [
        {
          "output_type": "execute_result",
          "data": {
            "text/plain": [
              "array([[1.],\n",
              "       [1.],\n",
              "       [1.],\n",
              "       [1.],\n",
              "       [1.]])"
            ]
          },
          "metadata": {},
          "execution_count": 12
        }
      ]
    },
    {
      "cell_type": "code",
      "metadata": {
        "colab": {
          "base_uri": "https://localhost:8080/"
        },
        "id": "c6JhQTiaFmxF",
        "outputId": "3c836980-095f-4601-f47c-1f8f0650e97d"
      },
      "source": [
        "Regression.getLoss()"
      ],
      "execution_count": 13,
      "outputs": [
        {
          "output_type": "stream",
          "name": "stderr",
          "text": [
            "/usr/local/lib/python3.7/dist-packages/ipykernel_launcher.py:24: RuntimeWarning: divide by zero encountered in log\n",
            "/usr/local/lib/python3.7/dist-packages/ipykernel_launcher.py:24: RuntimeWarning: invalid value encountered in multiply\n"
          ]
        },
        {
          "output_type": "execute_result",
          "data": {
            "text/plain": [
              "array([[inf, nan, inf, ..., inf, inf, inf],\n",
              "       [inf, nan, inf, ..., inf, inf, inf],\n",
              "       [inf, nan, inf, ..., inf, inf, inf],\n",
              "       [inf, nan, inf, ..., inf, inf, inf],\n",
              "       [inf, nan, inf, ..., inf, inf, inf]])"
            ]
          },
          "metadata": {},
          "execution_count": 13
        }
      ]
    },
    {
      "cell_type": "code",
      "metadata": {
        "id": "7fHvSHuc18L2"
      },
      "source": [
        ""
      ],
      "execution_count": null,
      "outputs": []
    }
  ]
}