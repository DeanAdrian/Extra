{
  "nbformat": 4,
  "nbformat_minor": 0,
  "metadata": {
    "colab": {
      "name": "58090_Lab02._Jabolt.ipynb",
      "provenance": [],
      "include_colab_link": true
    },
    "kernelspec": {
      "name": "python3",
      "display_name": "Python 3"
    },
    "language_info": {
      "name": "python"
    }
  },
  "cells": [
    {
      "cell_type": "markdown",
      "metadata": {
        "id": "view-in-github",
        "colab_type": "text"
      },
      "source": [
        "<a href=\"https://colab.research.google.com/github/DeanAdrian/Extra/blob/main/AIDA/58090_Lab02__Jabolt.ipynb\" target=\"_parent\"><img src=\"https://colab.research.google.com/assets/colab-badge.svg\" alt=\"Open In Colab\"/></a>"
      ]
    },
    {
      "cell_type": "markdown",
      "metadata": {
        "id": "ODsJ4ZqNqqQN"
      },
      "source": [
        "# <div align=\"center\">**Lab 02 - Linear Algebra Review**</div> \n",
        "\n",
        "| Submitted By:          | Instructor:               |\n",
        "|------------------------|---------------------------|\n",
        "| Baluyot, John Michael  | Engr. Dylan Josh D. Lopez |\n",
        "| Barona, Federico III   |                           | \n",
        "| Estocapio, Dean Adrian |                           |\n",
        "| Garcia, Lance Gabriel  |                           | "
      ]
    },
    {
      "cell_type": "code",
      "metadata": {
        "id": "yt7gRmsaDneO"
      },
      "source": [
        "import numpy as np\n",
        "import pandas as pd"
      ],
      "execution_count": null,
      "outputs": []
    },
    {
      "cell_type": "markdown",
      "metadata": {
        "id": "aXA2xRkTHjvn"
      },
      "source": [
        "### Case 4.c\n",
        "\n",
        "\n",
        "Problem 4.c: Computational Programming (Also Laboratory 2)\n",
        "\n",
        "Encode Equations 3.1 to 3.4 as the class LRegression wherein:\n",
        "\n",
        "*   LRegression should be instantiated with a dataset $X$, a ground truth vector $y$, and a parameter vector $\\theta$. Each parameter should have a data type of numpy.array.\n",
        "*   It should further have methodsreflecting to at least the four (4) aforementioned equations. Each should have a return value.\n",
        "\n"
      ]
    },
    {
      "cell_type": "code",
      "metadata": {
        "id": "52wI0afmFPB0"
      },
      "source": [
        "class LRegression():\n",
        "  def __init__(self, dataSet, y_GndTruth, thetaVector):\n",
        "    self.dataSet = dataSet\n",
        "    self.y_GndTruth = y_GndTruth\n",
        "    self.thetaVector = thetaVector\n",
        "\n",
        "  def getVectorMagnitude(self):\n",
        "    magnitude = np.linalg.norm(self.dataSet)\n",
        "    return magnitude\n",
        "\n",
        "  def getZ(self): ## Eq. 3.1\n",
        "    self.dataSetT = self.dataSet.transpose()\n",
        "    self.z = np.dot(self.dataSetT, self.thetaVector)\n",
        "    return self.z \n",
        "\n",
        "  def getActivation (self): ## Eq. 3.2 & 3.3\n",
        "    self.activation = 1/(1+np.exp(-self.z))\n",
        "    return self.activation\n",
        "\n",
        "  def getLoss(self): ## Eq. 3.4\n",
        "    m = self.y_GndTruth.shape[0]\n",
        "    yt = self.y_GndTruth.transpose()\n",
        "\n",
        "    lossEq= (-1*yt)*(np.log(self.activation)) - ((1-self.y_GndTruth).transpose())*(np.log(1-self.activation))\n",
        "    self.J = (1/m)*lossEq\n",
        "    return self.J"
      ],
      "execution_count": null,
      "outputs": []
    },
    {
      "cell_type": "code",
      "metadata": {
        "id": "VX-eVJopFRNo"
      },
      "source": [
        "X = np.random.random((300,5))*100\n",
        "theta = np.random.random((300,1))\n",
        "y = np.random.randint(0,2,(300,1))"
      ],
      "execution_count": null,
      "outputs": []
    },
    {
      "cell_type": "code",
      "metadata": {
        "id": "rADamgaYFfsj"
      },
      "source": [
        "Regression = LRegression(X, y, theta)"
      ],
      "execution_count": null,
      "outputs": []
    },
    {
      "cell_type": "code",
      "metadata": {
        "colab": {
          "base_uri": "https://localhost:8080/"
        },
        "id": "KM2jP4IeFhbG",
        "outputId": "b65b5292-19c3-47da-b2e5-b03953667a55"
      },
      "source": [
        "Regression.getVectorMagnitude()"
      ],
      "execution_count": null,
      "outputs": [
        {
          "output_type": "execute_result",
          "data": {
            "text/plain": [
              "2273.805204206895"
            ]
          },
          "metadata": {},
          "execution_count": 14
        }
      ]
    },
    {
      "cell_type": "code",
      "metadata": {
        "colab": {
          "base_uri": "https://localhost:8080/"
        },
        "id": "noccjoVjFjBB",
        "outputId": "cc62342b-cdc1-49ab-d87d-335fbf2bffb5"
      },
      "source": [
        "Regression.getZ()"
      ],
      "execution_count": null,
      "outputs": [
        {
          "output_type": "execute_result",
          "data": {
            "text/plain": [
              "array([[7427.27429284],\n",
              "       [7409.1063531 ],\n",
              "       [7226.11200263],\n",
              "       [7384.77371914],\n",
              "       [7246.42451025]])"
            ]
          },
          "metadata": {},
          "execution_count": 15
        }
      ]
    },
    {
      "cell_type": "code",
      "metadata": {
        "colab": {
          "base_uri": "https://localhost:8080/"
        },
        "id": "r1P8wPAVFk1-",
        "outputId": "83aeff5d-f332-44c8-918a-e73f65604cfd"
      },
      "source": [
        "Regression.getActivation()"
      ],
      "execution_count": null,
      "outputs": [
        {
          "output_type": "execute_result",
          "data": {
            "text/plain": [
              "array([[1.],\n",
              "       [1.],\n",
              "       [1.],\n",
              "       [1.],\n",
              "       [1.]])"
            ]
          },
          "metadata": {},
          "execution_count": 16
        }
      ]
    },
    {
      "cell_type": "code",
      "metadata": {
        "colab": {
          "base_uri": "https://localhost:8080/"
        },
        "id": "c6JhQTiaFmxF",
        "outputId": "cf30a467-39fe-4341-8128-7aabf4f70ad8"
      },
      "source": [
        "Regression.getLoss()"
      ],
      "execution_count": null,
      "outputs": [
        {
          "output_type": "stream",
          "name": "stderr",
          "text": [
            "/usr/local/lib/python3.7/dist-packages/ipykernel_launcher.py:24: RuntimeWarning: divide by zero encountered in log\n",
            "/usr/local/lib/python3.7/dist-packages/ipykernel_launcher.py:24: RuntimeWarning: invalid value encountered in multiply\n"
          ]
        },
        {
          "output_type": "execute_result",
          "data": {
            "text/plain": [
              "array([[inf, inf, inf, ..., inf, inf, nan],\n",
              "       [inf, inf, inf, ..., inf, inf, nan],\n",
              "       [inf, inf, inf, ..., inf, inf, nan],\n",
              "       [inf, inf, inf, ..., inf, inf, nan],\n",
              "       [inf, inf, inf, ..., inf, inf, nan]])"
            ]
          },
          "metadata": {},
          "execution_count": 21
        }
      ]
    }
  ]
}